{
 "cells": [
  {
   "cell_type": "code",
   "execution_count": 9,
   "metadata": {},
   "outputs": [],
   "source": [
    "import pandas as pd\n",
    "from enchant.utils import levenshtein"
   ]
  },
  {
   "cell_type": "code",
   "execution_count": 10,
   "metadata": {},
   "outputs": [
    {
     "name": "stderr",
     "output_type": "stream",
     "text": [
      "[nltk_data] Downloading package words to C:\\Users\\Sandesh\n",
      "[nltk_data]     Pargaonkar\\AppData\\Roaming\\nltk_data...\n",
      "[nltk_data]   Package words is already up-to-date!\n"
     ]
    }
   ],
   "source": [
    "import nltk\n",
    "\n",
    "# Download NLTK resources (nltk.download('punkt'))\n",
    "nltk.download('words')\n",
    "\n",
    "# Load English words dictionary\n",
    "words = nltk.corpus.words.words()"
   ]
  },
  {
   "cell_type": "code",
   "execution_count": 13,
   "metadata": {},
   "outputs": [
    {
     "name": "stdout",
     "output_type": "stream",
     "text": [
      "project\n"
     ]
    }
   ],
   "source": [
    "class editDistance():\n",
    "    def __init__(self, misspelled_word):\n",
    "        self.misspelled = misspelled_word\n",
    "        \n",
    "    def get_unique_words(self):\n",
    "        data = open('words_alpha.txt', 'r')\n",
    "        content=data.read()\n",
    "        return content.split()\n",
    "        \n",
    "    def edit_distance(self, word2):\n",
    "        calculted_distance = levenshtein(self.misspelled, word2)\n",
    "        return calculted_distance\n",
    "    \n",
    "    def suggest_correct_word(self):\n",
    "        unique_list = self.get_unique_words()\n",
    "\n",
    "        set_distance = set()\n",
    "        for word in unique_list:\n",
    "            tup = ((word, self.edit_distance(word)))\n",
    "            set_distance.add(tup)\n",
    "        min_distance_word = min(set_distance, key = lambda x: x[1])[0]\n",
    "        return min_distance_word\n",
    "    \n",
    "search_word = \"Proujecv\"\n",
    "\n",
    "suggested_word = editDistance(search_word)\n",
    "suggested_word = suggested_word.suggest_correct_word()\n",
    "\n",
    "print(suggested_word)\n",
    "    "
   ]
  },
  {
   "cell_type": "code",
   "execution_count": 14,
   "metadata": {},
   "outputs": [
    {
     "name": "stdout",
     "output_type": "stream",
     "text": [
      "jacket\n"
     ]
    }
   ],
   "source": [
    "search_word = \"jackwt\"\n",
    "\n",
    "suggested_word = editDistance(search_word)\n",
    "suggested_word = suggested_word.suggest_correct_word()\n",
    "\n",
    "print(suggested_word)"
   ]
  }
 ],
 "metadata": {
  "kernelspec": {
   "display_name": "base",
   "language": "python",
   "name": "python3"
  },
  "language_info": {
   "codemirror_mode": {
    "name": "ipython",
    "version": 3
   },
   "file_extension": ".py",
   "mimetype": "text/x-python",
   "name": "python",
   "nbconvert_exporter": "python",
   "pygments_lexer": "ipython3",
   "version": "3.8.8"
  }
 },
 "nbformat": 4,
 "nbformat_minor": 2
}
